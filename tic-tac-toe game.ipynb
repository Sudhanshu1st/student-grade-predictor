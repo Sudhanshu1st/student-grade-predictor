{
 "cells": [
  {
   "cell_type": "code",
   "execution_count": 1,
   "metadata": {},
   "outputs": [],
   "source": [
    "#MILESTONE PROJECT 1"
   ]
  },
  {
   "cell_type": "code",
   "execution_count": 32,
   "metadata": {},
   "outputs": [],
   "source": [
    "from IPython.display import clear_output\n",
    "\n",
    "def display_board(board):\n",
    "    clear_output()\n",
    "    print('   |      |')\n",
    "    print(''+ board[7]+'  |  '+board[8]+'   |  '+board[9])\n",
    "    print('   |      |')\n",
    "    print('----------------')\n",
    "    print(''+ board[4]+'  |   '+board[5]+'  |  '+board[6])\n",
    "    print('   |      |')\n",
    "    print('----------------')\n",
    "    print(''+ board[1]+'  |  '+board[2]+'   |  '+board[3])\n",
    "    print('   |      |')\n",
    "    "
   ]
  },
  {
   "cell_type": "code",
   "execution_count": 33,
   "metadata": {},
   "outputs": [
    {
     "name": "stdout",
     "output_type": "stream",
     "text": [
      "   |      |\n",
      "X  |  O   |  X\n",
      "   |      |\n",
      "----------------\n",
      "O  |   X  |  O\n",
      "   |      |\n",
      "----------------\n",
      "X  |  O   |  X\n",
      "   |      |\n"
     ]
    }
   ],
   "source": [
    "test_board = ['#','X','O','X','O','X','O','X','O','X']\n",
    "display_board(test_board)\n"
   ]
  },
  {
   "cell_type": "code",
   "execution_count": 64,
   "metadata": {},
   "outputs": [],
   "source": [
    "def player_input():\n",
    "    '''\n",
    "    OUTPUT = (Player 1 marker, Player 2 marker)\n",
    "    '''\n",
    "    marker = ''\n",
    "\n",
    "    while marker != 'X' and marker !='O':\n",
    "        marker = input('player1: Choose X or O: ').upper()\n",
    "    if marker == 'X':\n",
    "        return ('X','O')\n",
    "    else:\n",
    "        return ('O','X')"
   ]
  },
  {
   "cell_type": "code",
   "execution_count": 53,
   "metadata": {},
   "outputs": [],
   "source": [
    "player1_marker , player2_marker =  player_input()"
   ]
  },
  {
   "cell_type": "code",
   "execution_count": 52,
   "metadata": {},
   "outputs": [],
   "source": [
    "def place_marker(board,marker,position):\n",
    "    board[position] = marker"
   ]
  },
  {
   "cell_type": "code",
   "execution_count": 11,
   "metadata": {},
   "outputs": [
    {
     "data": {
      "text/plain": [
       "['#', 'X', 'O', 'X', 'O', 'X', 'O', 'X', 'O', 'X']"
      ]
     },
     "execution_count": 11,
     "metadata": {},
     "output_type": "execute_result"
    }
   ],
   "source": [
    "test_board"
   ]
  },
  {
   "cell_type": "code",
   "execution_count": 54,
   "metadata": {},
   "outputs": [
    {
     "name": "stdout",
     "output_type": "stream",
     "text": [
      "   |      |\n",
      "X  |  $   |  X\n",
      "   |      |\n",
      "----------------\n",
      "O  |   X  |  O\n",
      "   |      |\n",
      "----------------\n",
      "X  |  O   |  X\n",
      "   |      |\n"
     ]
    }
   ],
   "source": [
    "place_marker(test_board,'$',8)\n",
    "display_board(test_board)"
   ]
  },
  {
   "cell_type": "code",
   "execution_count": 56,
   "metadata": {},
   "outputs": [],
   "source": [
    "def win_check(board, mark):\n",
    "\n",
    "#Win tic tac toe?\n",
    "#All rows, and check to see if they all share the same marker?\n",
    "\n",
    "    return ((board[7] == mark and board[8] == mark and board[9] == mark ) or #row1\n",
    "(board[4] == mark and board[5] == mark and board[6] == mark ) or #row2\n",
    "(board[1] == mark and board[2] == mark and board[3] == mark ) or #row3\n",
    "(board[7] == mark and board[4] == mark and board[1] == mark ) or  #column1\n",
    "(board[8] == mark and board[5] == mark and board[2] == mark ) or  #column2\n",
    "(board[9] == mark and board[6] == mark and board[3] == mark ) or  #column3\n",
    "(board[7] == mark and board[5] == mark and board[3] == mark ) or  #diagonal\n",
    "(board[9] == mark and board[5] == mark and board[1] == mark ))  #diagonal2\n",
    "\n",
    "\n",
    "#All columns, check to see if they all share the same marker?\n",
    "\n",
    "#2 diagonals, check to see that they match.\n"
   ]
  },
  {
   "cell_type": "code",
   "execution_count": 57,
   "metadata": {},
   "outputs": [
    {
     "name": "stdout",
     "output_type": "stream",
     "text": [
      "   |      |\n",
      "X  |  $   |  X\n",
      "   |      |\n",
      "----------------\n",
      "O  |   X  |  O\n",
      "   |      |\n",
      "----------------\n",
      "X  |  O   |  X\n",
      "   |      |\n"
     ]
    },
    {
     "data": {
      "text/plain": [
       "True"
      ]
     },
     "execution_count": 57,
     "metadata": {},
     "output_type": "execute_result"
    }
   ],
   "source": [
    "display_board(test_board)\n",
    "win_check(test_board, 'X')"
   ]
  },
  {
   "cell_type": "code",
   "execution_count": 58,
   "metadata": {},
   "outputs": [],
   "source": [
    "import random \n",
    "def choose_first():\n",
    "\n",
    "    flip = random.randint(0,1)\n",
    "    if flip == 0:\n",
    "        return 'Player 1'\n",
    "    else:\n",
    "        return 'player 2' "
   ]
  },
  {
   "cell_type": "code",
   "execution_count": 40,
   "metadata": {},
   "outputs": [],
   "source": [
    "def space_check(board, position):\n",
    "\n",
    "   return board[position] == ''"
   ]
  },
  {
   "cell_type": "code",
   "execution_count": 41,
   "metadata": {},
   "outputs": [],
   "source": [
    "def full_board_check(board):\n",
    "\n",
    "    for i in range(1,10):\n",
    "        if space_check(board, i):\n",
    "            return False\n",
    "    return True"
   ]
  },
  {
   "cell_type": "code",
   "execution_count": 42,
   "metadata": {},
   "outputs": [],
   "source": [
    "def player_choice(board):\n",
    "    position = 0\n",
    "\n",
    "    while position not in [1,2,3,4,5,6,7,8,9] or not space_check(board, position):\n",
    "        position = int(input('Choose a position: (1-9) '))\n",
    "    \n",
    "    return position"
   ]
  },
  {
   "cell_type": "code",
   "execution_count": 43,
   "metadata": {},
   "outputs": [],
   "source": [
    "def replay():\n",
    "\n",
    "    choice == input(\"Play again? Enter Yes or No\")\n",
    "    \n",
    "    return choice == 'Yes'\n"
   ]
  },
  {
   "cell_type": "code",
   "execution_count": 65,
   "metadata": {},
   "outputs": [
    {
     "name": "stdout",
     "output_type": "stream",
     "text": [
      "   |      |\n",
      "   |      |   \n",
      "   |      |\n",
      "----------------\n",
      "   |      |   \n",
      "   |      |\n",
      "----------------\n",
      "   |      |   \n",
      "   |      |\n"
     ]
    },
    {
     "ename": "ValueError",
     "evalue": "invalid literal for int() with base 10: ''",
     "output_type": "error",
     "traceback": [
      "\u001b[1;31m---------------------------------------------------------------------------\u001b[0m",
      "\u001b[1;31mValueError\u001b[0m                                Traceback (most recent call last)",
      "\u001b[1;32mUntitled-1.ipynb Cell 16\u001b[0m in \u001b[0;36m<cell line: 6>\u001b[1;34m()\u001b[0m\n\u001b[0;32m     <a href='vscode-notebook-cell:Untitled-1.ipynb?jupyter-notebook#X22sdW50aXRsZWQ%3D?line=30'>31</a>\u001b[0m display_board(the_board)\n\u001b[0;32m     <a href='vscode-notebook-cell:Untitled-1.ipynb?jupyter-notebook#X22sdW50aXRsZWQ%3D?line=31'>32</a>\u001b[0m \u001b[39m#choose a position\u001b[39;00m\n\u001b[1;32m---> <a href='vscode-notebook-cell:Untitled-1.ipynb?jupyter-notebook#X22sdW50aXRsZWQ%3D?line=32'>33</a>\u001b[0m position \u001b[39m=\u001b[39m player_choice(the_board)\n\u001b[0;32m     <a href='vscode-notebook-cell:Untitled-1.ipynb?jupyter-notebook#X22sdW50aXRsZWQ%3D?line=33'>34</a>\u001b[0m \u001b[39m#place the marker on the position\u001b[39;00m\n\u001b[0;32m     <a href='vscode-notebook-cell:Untitled-1.ipynb?jupyter-notebook#X22sdW50aXRsZWQ%3D?line=34'>35</a>\u001b[0m place_marker(the_board,player1_marker,position)\n",
      "\u001b[1;32mUntitled-1.ipynb Cell 16\u001b[0m in \u001b[0;36mplayer_choice\u001b[1;34m(board)\u001b[0m\n\u001b[0;32m      <a href='vscode-notebook-cell:Untitled-1.ipynb?jupyter-notebook#X22sdW50aXRsZWQ%3D?line=1'>2</a>\u001b[0m position \u001b[39m=\u001b[39m \u001b[39m0\u001b[39m\n\u001b[0;32m      <a href='vscode-notebook-cell:Untitled-1.ipynb?jupyter-notebook#X22sdW50aXRsZWQ%3D?line=3'>4</a>\u001b[0m \u001b[39mwhile\u001b[39;00m position \u001b[39mnot\u001b[39;00m \u001b[39min\u001b[39;00m [\u001b[39m1\u001b[39m,\u001b[39m2\u001b[39m,\u001b[39m3\u001b[39m,\u001b[39m4\u001b[39m,\u001b[39m5\u001b[39m,\u001b[39m6\u001b[39m,\u001b[39m7\u001b[39m,\u001b[39m8\u001b[39m,\u001b[39m9\u001b[39m] \u001b[39mor\u001b[39;00m \u001b[39mnot\u001b[39;00m space_check(board, position):\n\u001b[1;32m----> <a href='vscode-notebook-cell:Untitled-1.ipynb?jupyter-notebook#X22sdW50aXRsZWQ%3D?line=4'>5</a>\u001b[0m     position \u001b[39m=\u001b[39m \u001b[39mint\u001b[39;49m(\u001b[39minput\u001b[39;49m(\u001b[39m'\u001b[39;49m\u001b[39mChoose a position: (1-9) \u001b[39;49m\u001b[39m'\u001b[39;49m))\n\u001b[0;32m      <a href='vscode-notebook-cell:Untitled-1.ipynb?jupyter-notebook#X22sdW50aXRsZWQ%3D?line=6'>7</a>\u001b[0m \u001b[39mreturn\u001b[39;00m position\n",
      "\u001b[1;31mValueError\u001b[0m: invalid literal for int() with base 10: ''"
     ]
    }
   ],
   "source": [
    "#while loop to run the game.\n",
    "\n",
    "\n",
    "print(\"Welcome to the Tic_Tac_Toe\")\n",
    "\n",
    "while True:\n",
    "    #play the game \n",
    "    #Set (board, who\"s first, choose marker X, O)\n",
    "\n",
    "    the_board = [' ']*10\n",
    "\n",
    "    player1_marker, player2_marker = player_input()\n",
    "\n",
    "    turn = choose_first()\n",
    "\n",
    "    print( turn +  ' will go first')\n",
    "\n",
    "    play_game = input('Ready to play? y or n')\n",
    "    \n",
    "    if play_game == 'y':\n",
    "        game_on = True \n",
    "    else:\n",
    "        game_on = False\n",
    "    \n",
    "    ##Game play\n",
    "\n",
    "    while game_on:\n",
    "        if turn == 'Player 1':\n",
    "\n",
    "            #show the board\n",
    "            display_board(the_board)\n",
    "            #choose a position\n",
    "            position = player_choice(the_board)\n",
    "            #place the marker on the position\n",
    "            place_marker(the_board,player1_marker,position)\n",
    "\n",
    "            #check if they won\n",
    "\n",
    "            if win_check(the_board,player1_marker):\n",
    "                 display_board(the_board)\n",
    "                 print('PLAYER 1 HAS WON!')\n",
    "                 game_on = False\n",
    "            else:\n",
    "                 if full_board_check(the_board):\n",
    "                    display_board(the_board)\n",
    "                    print('Tie Game!')\n",
    "                    game_on = False\n",
    "                 else:\n",
    "                    turn = 'Player 2'\n",
    "\n",
    "        else:\n",
    "             #show the board\n",
    "            display_board(the_board)\n",
    "            #choose a position\n",
    "            position = player_choice(the_board)\n",
    "            #place the marker on the position\n",
    "            place_marker(the_board,player2_marker,position)\n",
    "\n",
    "            #check if they won\n",
    "\n",
    "            if win_check(the_board,player2_marker):\n",
    "                 display_board(the_board)\n",
    "                 print('Player 2 has won')\n",
    "                 game_on = False\n",
    "            else:\n",
    "                 if full_board_check(the_board):\n",
    "                    display_board(the_board)\n",
    "                    print('Tie Game!')\n",
    "                    game_on = False\n",
    "                 else:\n",
    "                    turn = 'Player 1'\n",
    "\n",
    "\n",
    "\n",
    "        \n",
    "    if not replay():\n",
    "        break\n",
    "\n",
    "\n",
    "#break out of the while loop to replay the game.\n",
    "\n"
   ]
  }
 ],
 "metadata": {
  "kernelspec": {
   "display_name": "Python 3.10.0 64-bit",
   "language": "python",
   "name": "python3"
  },
  "language_info": {
   "codemirror_mode": {
    "name": "ipython",
    "version": 3
   },
   "file_extension": ".py",
   "mimetype": "text/x-python",
   "name": "python",
   "nbconvert_exporter": "python",
   "pygments_lexer": "ipython3",
   "version": "3.10.0"
  },
  "orig_nbformat": 4,
  "vscode": {
   "interpreter": {
    "hash": "dbcefe7cc1b5c8a0efe7bce2a8e6d9d317c4b15f360801b153528886b54c3f98"
   }
  }
 },
 "nbformat": 4,
 "nbformat_minor": 2
}
